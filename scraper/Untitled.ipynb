{
 "cells": [
  {
   "cell_type": "code",
   "execution_count": 3,
   "metadata": {
    "scrolled": true
   },
   "outputs": [
    {
     "name": "stdout",
     "output_type": "stream",
     "text": [
      "Requirement already satisfied: scrapy in /Users/maxime/opt/anaconda3/envs/Renv2/lib/python3.8/site-packages (2.4.1)\n",
      "Requirement already satisfied: lxml>=3.5.0; platform_python_implementation == \"CPython\" in /Users/maxime/opt/anaconda3/envs/Renv2/lib/python3.8/site-packages (from scrapy) (4.6.2)\n",
      "Requirement already satisfied: parsel>=1.5.0 in /Users/maxime/opt/anaconda3/envs/Renv2/lib/python3.8/site-packages (from scrapy) (1.6.0)\n",
      "Requirement already satisfied: zope.interface>=4.1.3 in /Users/maxime/opt/anaconda3/envs/Renv2/lib/python3.8/site-packages (from scrapy) (5.2.0)\n",
      "Requirement already satisfied: protego>=0.1.15 in /Users/maxime/opt/anaconda3/envs/Renv2/lib/python3.8/site-packages (from scrapy) (0.1.16)\n",
      "Requirement already satisfied: service-identity>=16.0.0 in /Users/maxime/opt/anaconda3/envs/Renv2/lib/python3.8/site-packages (from scrapy) (18.1.0)\n",
      "Requirement already satisfied: cryptography>=2.0 in /Users/maxime/opt/anaconda3/envs/Renv2/lib/python3.8/site-packages (from scrapy) (3.3.1)\n",
      "Requirement already satisfied: pyOpenSSL>=16.2.0 in /Users/maxime/opt/anaconda3/envs/Renv2/lib/python3.8/site-packages (from scrapy) (20.0.1)\n",
      "Requirement already satisfied: PyDispatcher>=2.0.5 in /Users/maxime/opt/anaconda3/envs/Renv2/lib/python3.8/site-packages (from scrapy) (2.0.5)\n",
      "Requirement already satisfied: itemloaders>=1.0.1 in /Users/maxime/opt/anaconda3/envs/Renv2/lib/python3.8/site-packages (from scrapy) (1.0.4)\n",
      "Requirement already satisfied: itemadapter>=0.1.0 in /Users/maxime/opt/anaconda3/envs/Renv2/lib/python3.8/site-packages (from scrapy) (0.2.0)\n",
      "Requirement already satisfied: cssselect>=0.9.1 in /Users/maxime/opt/anaconda3/envs/Renv2/lib/python3.8/site-packages (from scrapy) (1.1.0)\n",
      "Requirement already satisfied: Twisted>=17.9.0 in /Users/maxime/opt/anaconda3/envs/Renv2/lib/python3.8/site-packages (from scrapy) (20.3.0)\n",
      "Requirement already satisfied: w3lib>=1.17.0 in /Users/maxime/opt/anaconda3/envs/Renv2/lib/python3.8/site-packages (from scrapy) (1.22.0)\n",
      "Requirement already satisfied: queuelib>=1.4.2 in /Users/maxime/opt/anaconda3/envs/Renv2/lib/python3.8/site-packages (from scrapy) (1.5.0)\n",
      "Requirement already satisfied: six>=1.6.0 in /Users/maxime/opt/anaconda3/envs/Renv2/lib/python3.8/site-packages (from parsel>=1.5.0->scrapy) (1.15.0)\n",
      "Requirement already satisfied: setuptools in /Users/maxime/opt/anaconda3/envs/Renv2/lib/python3.8/site-packages (from zope.interface>=4.1.3->scrapy) (50.3.1.post20201107)\n",
      "Requirement already satisfied: pyasn1-modules in /Users/maxime/opt/anaconda3/envs/Renv2/lib/python3.8/site-packages (from service-identity>=16.0.0->scrapy) (0.2.8)\n",
      "Requirement already satisfied: attrs>=16.0.0 in /Users/maxime/opt/anaconda3/envs/Renv2/lib/python3.8/site-packages (from service-identity>=16.0.0->scrapy) (20.3.0)\n",
      "Requirement already satisfied: pyasn1 in /Users/maxime/opt/anaconda3/envs/Renv2/lib/python3.8/site-packages (from service-identity>=16.0.0->scrapy) (0.4.8)\n",
      "Requirement already satisfied: cffi>=1.12 in /Users/maxime/opt/anaconda3/envs/Renv2/lib/python3.8/site-packages (from cryptography>=2.0->scrapy) (1.14.4)\n",
      "Requirement already satisfied: jmespath>=0.9.5 in /Users/maxime/opt/anaconda3/envs/Renv2/lib/python3.8/site-packages (from itemloaders>=1.0.1->scrapy) (0.10.0)\n",
      "Requirement already satisfied: hyperlink>=17.1.1 in /Users/maxime/opt/anaconda3/envs/Renv2/lib/python3.8/site-packages (from Twisted>=17.9.0->scrapy) (21.0.0)\n",
      "Requirement already satisfied: incremental>=16.10.1 in /Users/maxime/opt/anaconda3/envs/Renv2/lib/python3.8/site-packages (from Twisted>=17.9.0->scrapy) (17.5.0)\n",
      "Requirement already satisfied: constantly>=15.1 in /Users/maxime/opt/anaconda3/envs/Renv2/lib/python3.8/site-packages (from Twisted>=17.9.0->scrapy) (15.1.0)\n",
      "Requirement already satisfied: Automat>=0.3.0 in /Users/maxime/opt/anaconda3/envs/Renv2/lib/python3.8/site-packages (from Twisted>=17.9.0->scrapy) (20.2.0)\n",
      "Requirement already satisfied: PyHamcrest!=1.10.0,>=1.9.0 in /Users/maxime/opt/anaconda3/envs/Renv2/lib/python3.8/site-packages (from Twisted>=17.9.0->scrapy) (2.0.2)\n",
      "Requirement already satisfied: pycparser in /Users/maxime/opt/anaconda3/envs/Renv2/lib/python3.8/site-packages (from cffi>=1.12->cryptography>=2.0->scrapy) (2.20)\n",
      "Requirement already satisfied: idna>=2.5 in /Users/maxime/opt/anaconda3/envs/Renv2/lib/python3.8/site-packages (from hyperlink>=17.1.1->Twisted>=17.9.0->scrapy) (2.10)\n",
      "Note: you may need to restart the kernel to use updated packages.\n"
     ]
    }
   ],
   "source": [
    "%pip install scrapy\n",
    "import requests\n",
    "from scrapy.selector import Selector"
   ]
  },
  {
   "cell_type": "code",
   "execution_count": 4,
   "metadata": {},
   "outputs": [],
   "source": [
    "# Define  the url\n",
    "url = 'https://www.tripadvisor.co.uk/Restaurant_Review-g528819-d10490489-Reviews-Umi-Twickenham_Greater_London_England.html'"
   ]
  },
  {
   "cell_type": "code",
   "execution_count": 5,
   "metadata": {},
   "outputs": [],
   "source": [
    "# Create selector object\n",
    "html = requests.get(url).content\n",
    "sel = Selector(text=html)"
   ]
  },
  {
   "cell_type": "code",
   "execution_count": 25,
   "metadata": {},
   "outputs": [
    {
     "name": "stdout",
     "output_type": "stream",
     "text": [
      "['<a href=\"/Restaurants-g528819-Twickenham_Greater_London_England.html\" class=\"_15QfMZ2L\"><span><b><span>#1</span></b> of 138 Restaurants in Twickenham</span></a>', '<a class=\"_2PPvKext\" href=\"/UpdateListing-d10490489\" target=\"_blank\">+ Add website</a>']\n"
     ]
    }
   ],
   "source": [
    "# Doing the same with xpath selector\n",
    "# xpath_locator = '//div[@class=\"_2vbD36Hr _36TL14Jn\"]/span/a'\n",
    "xpath_locator = '//span[@class=\"_13OzAOXO _2VxaSjVD\"]/a'\n",
    "rep = sel.xpath(xpath_locator).getall()\n",
    "print(rep)"
   ]
  },
  {
   "cell_type": "code",
   "execution_count": 36,
   "metadata": {},
   "outputs": [
    {
     "name": "stdout",
     "output_type": "stream",
     "text": [
      "https://nominatim.openstreetmap.org/search?q=TW1+3LJ&format=json\n",
      "No error\n",
      "latitude = 51.44739161038069, longitude = -0.3269640515045318\n"
     ]
    }
   ],
   "source": [
    "import os\n",
    "import requests\n",
    "\n",
    "# address = \"30 York Street, Twickenham TW1 3LJ England\"\n",
    "postcode = \"TW1 3LJ\"\n",
    "target_url = 'https://nominatim.openstreetmap.org/search?q=' + postcode + '&format=json'\n",
    "target_url = target_url.replace(',', '%2C')\n",
    "target_url = target_url.replace(' ', '+')\n",
    "print(target_url)\n",
    "\n",
    "r = requests.get(target_url)\n",
    "found_coordinates = True\n",
    "if r.status_code==200:\n",
    "    print(\"No error\")\n",
    "    try:\n",
    "        coordinates = r.json()[0]\n",
    "        latitude, longitude = coordinates['lat'], coordinates['lon']\n",
    "\n",
    "    except:\n",
    "        #print(f'Address not found for: {target_url}')\n",
    "        latitude, longitude = None, None\n",
    "        found_coordinates = False\n",
    "\n",
    "else:\n",
    "    print(f'Error {status_code} ocurred on the request')\n",
    "    found_coordinates = False\n",
    "print(f\"latitude = {latitude}, longitude = {longitude}\")"
   ]
  },
  {
   "cell_type": "code",
   "execution_count": 48,
   "metadata": {},
   "outputs": [
    {
     "name": "stdout",
     "output_type": "stream",
     "text": [
      "['30', 'Yor', 'Street,', 'Twi', 'TW1', '3LJ', 'England']\n"
     ]
    },
    {
     "data": {
      "text/plain": [
       "['TW1', '3LJ']"
      ]
     },
     "execution_count": 48,
     "metadata": {},
     "output_type": "execute_result"
    }
   ],
   "source": [
    "\n",
    "splits = address.split(' ')\n",
    "postcode = []\n",
    "\n",
    "for idx, split in enumerate(splits):\n",
    "    if split.upper() == split:\n",
    "        if len(split) == 3 and len(postcode) == 0:\n",
    "            postcode.append(split)\n",
    "            first_part = idx\n",
    "        elif len(split) == 3 and len(postcode) != 0:\n",
    "            if idx == first_part + 1:\n",
    "                postcode.append(split)\n",
    "                # finish\n",
    "            else:\n",
    "                first_part = idx\n",
    "                postcode[0] = split\n",
    "postcode\n",
    "        "
   ]
  },
  {
   "cell_type": "markdown",
   "metadata": {},
   "source": [
    "address: latitude = 51.4473585, longitude = -0.327092\n",
    "postcode: latitude = 51.44739161038069, longitude = -0.3269640515045318"
   ]
  },
  {
   "cell_type": "code",
   "execution_count": null,
   "metadata": {},
   "outputs": [],
   "source": []
  }
 ],
 "metadata": {
  "kernelspec": {
   "display_name": "Python 3",
   "language": "python",
   "name": "python3"
  },
  "language_info": {
   "codemirror_mode": {
    "name": "ipython",
    "version": 3
   },
   "file_extension": ".py",
   "mimetype": "text/x-python",
   "name": "python",
   "nbconvert_exporter": "python",
   "pygments_lexer": "ipython3",
   "version": "3.8.2"
  }
 },
 "nbformat": 4,
 "nbformat_minor": 4
}
