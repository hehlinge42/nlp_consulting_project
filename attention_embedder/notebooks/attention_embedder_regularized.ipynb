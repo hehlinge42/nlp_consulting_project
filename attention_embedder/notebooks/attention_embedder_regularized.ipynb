{
  "nbformat": 4,
  "nbformat_minor": 0,
  "metadata": {
    "accelerator": "GPU",
    "colab": {
      "name": "attention_embedder_regularized.ipynb",
      "provenance": [],
      "collapsed_sections": []
    },
    "kernelspec": {
      "display_name": "Python 3",
      "name": "python3"
    }
  },
  "cells": [
    {
      "cell_type": "markdown",
      "metadata": {
        "id": "jZnrzB_Vsrok"
      },
      "source": [
        "# Imports"
      ]
    },
    {
      "cell_type": "code",
      "metadata": {
        "colab": {
          "base_uri": "https://localhost:8080/"
        },
        "id": "m7KtnT6SskZC",
        "outputId": "5e923754-5523-43af-a48a-a148b1ff45cb"
      },
      "source": [
        "!pip install logzero\n",
        "import os\n",
        "import io\n",
        "import re\n",
        "import argparse\n",
        "\n",
        "import logging\n",
        "import logzero\n",
        "from logzero import logger\n",
        "\n",
        "import datetime\n",
        "import pandas as pd\n",
        "import numpy as np\n",
        "\n",
        "import tqdm\n",
        "import warnings\n",
        "import itertools as it\n",
        "import ast\n",
        "import nltk\n",
        "nltk.download('punkt')\n",
        "\n",
        "import matplotlib.pyplot as plt\n",
        "import sklearn\n",
        "import seaborn as sns\n",
        "import json\n",
        "from sklearn import decomposition\n",
        "import tensorflow as tf\n",
        "import tensorflow.compat.v1 as tfc\n",
        "from tensorboard.plugins.hparams import api as hp\n",
        "\n",
        "from sklearn.metrics import confusion_matrix, roc_curve, auc\n",
        "\n",
        "import warnings\n",
        "warnings.filterwarnings('ignore')"
      ],
      "execution_count": 1,
      "outputs": [
        {
          "output_type": "stream",
          "text": [
            "Collecting logzero\n",
            "  Downloading https://files.pythonhosted.org/packages/7e/f7/369920be5b4e9c1a05f5e10bae62b1eca4e01b0b235541865ff53f4d2b6a/logzero-1.6.3-py2.py3-none-any.whl\n",
            "Installing collected packages: logzero\n",
            "Successfully installed logzero-1.6.3\n",
            "[nltk_data] Downloading package punkt to /root/nltk_data...\n",
            "[nltk_data]   Unzipping tokenizers/punkt.zip.\n"
          ],
          "name": "stdout"
        }
      ]
    },
    {
      "cell_type": "markdown",
      "metadata": {
        "id": "BzMcbZX9XIoi"
      },
      "source": [
        "# Mount and clone repository to get helpers functions"
      ]
    },
    {
      "cell_type": "code",
      "metadata": {
        "colab": {
          "base_uri": "https://localhost:8080/"
        },
        "id": "0IfO9pYRlQnA",
        "outputId": "583bb79a-6e33-44a5-be1d-ee78e34cef41"
      },
      "source": [
        "from google.colab import drive\n",
        "drive.mount('/content/drive/')\n",
        "os.chdir(os.path.join('drive', 'MyDrive'))"
      ],
      "execution_count": 2,
      "outputs": [
        {
          "output_type": "stream",
          "text": [
            "Mounted at /content/drive/\n"
          ],
          "name": "stdout"
        }
      ]
    },
    {
      "cell_type": "code",
      "metadata": {
        "colab": {
          "base_uri": "https://localhost:8080/"
        },
        "id": "5OPPbCoSsQLs",
        "outputId": "82621c33-c0b1-4b38-f516-f2488f4a230f"
      },
      "source": [
        "print(os.path.join(os.getcwd(), \"nlp_consulting_project\"))\n",
        "if os.path.exists(os.path.join(os.sep, 'content', 'drive', 'MyDrive', 'Capgemini', \"nlp_consulting_project\")):\n",
        "    print(\"Directory nlp_consulting_project exists\")\n",
        "    os.chdir(os.path.join(os.sep, 'content', 'drive', 'MyDrive', 'Capgemini', \"nlp_consulting_project\"))\n",
        "    !git pull\n",
        "\n",
        "    if not os.path.exists(os.path.join('scraper', 'scraped_data', 'merged_data', 'merged_reviews.json')):\n",
        "        try:\n",
        "            os.mkdir(os.path.join('scraper', 'scraped_data', 'merged_data'))\n",
        "        except:\n",
        "            pass\n",
        "\n",
        "        from scraper.merger import merge_files\n",
        "        scraped_data_dir = os.path.join('scraper', 'scraped_data')\n",
        "        merge_files(os.path.join(scraped_data_dir, 'reviews'), os.path.join(scraped_data_dir, 'merged_data', 'merged_reviews.json'))\n",
        "    os.chdir(os.path.join(\"attention_embedder\", \"src\"))\n",
        "\n",
        "else:\n",
        "    !git clone https://github.com/hehlinge42/nlp_consulting_project.git\n",
        "\n",
        "    os.chdir(\"nlp_consulting_project\")\n",
        "    try:\n",
        "        os.mkdir(os.path.join('scraper', 'scraped_data', 'merged_data'))\n",
        "    except:\n",
        "        pass\n",
        "    \n",
        "    from scraper.merger import merge_files\n",
        "    scraped_data_dir = os.path.join('scraper', 'scraped_data')\n",
        "    merge_files(os.path.join(scraped_data_dir, 'reviews'), os.path.join(scraped_data_dir, 'merged_data', 'merged_reviews.json'))\n",
        "    os.chdir(os.path.join(\"attention_embedder\", \"src\"))"
      ],
      "execution_count": 3,
      "outputs": [
        {
          "output_type": "stream",
          "text": [
            "/content/drive/My Drive/nlp_consulting_project\n",
            "Cloning into 'nlp_consulting_project'...\n",
            "remote: Enumerating objects: 28, done.\u001b[K\n",
            "remote: Counting objects: 100% (28/28), done.\u001b[K\n",
            "remote: Compressing objects: 100% (18/18), done.\u001b[K\n",
            "remote: Total 11231 (delta 15), reused 20 (delta 10), pack-reused 11203\u001b[K\n",
            "Receiving objects: 100% (11231/11231), 1.25 GiB | 23.41 MiB/s, done.\n",
            "Resolving deltas: 100% (3940/3940), done.\n",
            "Checking out files: 100% (3353/3353), done.\n"
          ],
          "name": "stdout"
        },
        {
          "output_type": "stream",
          "text": [
            "[I 210308 16:54:54 merger:70] Merging 8 files\n"
          ],
          "name": "stderr"
        }
      ]
    },
    {
      "cell_type": "code",
      "metadata": {
        "id": "WquIJMxzvhXq"
      },
      "source": [
        "# from han import HierarchicalAttentionNetwork\n",
        "from loading import *\n",
        "from skipgram import Skipgram\n",
        "from preprocessing import review_preprocessing"
      ],
      "execution_count": 4,
      "outputs": []
    },
    {
      "cell_type": "code",
      "metadata": {
        "id": "l5vIukcdnJhT",
        "colab": {
          "base_uri": "https://localhost:8080/"
        },
        "outputId": "eca8af8f-26a2-492c-c207-b10e2fb01d9a"
      },
      "source": [
        "!unzip ../data/weights_json.zip -d ../data\n",
        "!7z x ../data/weights_gz.7z -o../data\n",
        "!unzip ../data/balanced_dataset_gz.zip -d ../data"
      ],
      "execution_count": 5,
      "outputs": [
        {
          "output_type": "stream",
          "text": [
            "Archive:  ../data/weights_json.zip\n",
            "  inflating: ../data/weights_json.json  \n",
            "\n",
            "7-Zip [64] 16.02 : Copyright (c) 1999-2016 Igor Pavlov : 2016-05-21\n",
            "p7zip Version 16.02 (locale=en_US.UTF-8,Utf16=on,HugeFiles=on,64 bits,2 CPUs Intel(R) Xeon(R) CPU @ 2.20GHz (406F0),ASM,AES-NI)\n",
            "\n",
            "Scanning the drive for archives:\n",
            "  0M Scan ../data/\b\b\b\b\b\b\b\b\b\b\b\b\b\b\b\b\b\b                  \b\b\b\b\b\b\b\b\b\b\b\b\b\b\b\b\b\b1 file, 96533866 bytes (93 MiB)\n",
            "\n",
            "Extracting archive: ../data/weights_gz.7z\n",
            "--\n",
            "Path = ../data/weights_gz.7z\n",
            "Type = 7z\n",
            "Physical Size = 96533866\n",
            "Headers Size = 138\n",
            "Method = LZMA2:24\n",
            "Solid = -\n",
            "Blocks = 1\n",
            "\n",
            "  0%\b\b\b\b    \b\b\b\b  2% - weights_gz.json\b\b\b\b\b\b\b\b\b\b\b\b\b\b\b\b\b\b\b\b\b\b                      \b\b\b\b\b\b\b\b\b\b\b\b\b\b\b\b\b\b\b\b\b\b  6% - weights_gz.json\b\b\b\b\b\b\b\b\b\b\b\b\b\b\b\b\b\b\b\b\b\b                      \b\b\b\b\b\b\b\b\b\b\b\b\b\b\b\b\b\b\b\b\b\b  9% - weights_gz.json\b\b\b\b\b\b\b\b\b\b\b\b\b\b\b\b\b\b\b\b\b\b                      \b\b\b\b\b\b\b\b\b\b\b\b\b\b\b\b\b\b\b\b\b\b 12% - weights_gz.json\b\b\b\b\b\b\b\b\b\b\b\b\b\b\b\b\b\b\b\b\b\b                      \b\b\b\b\b\b\b\b\b\b\b\b\b\b\b\b\b\b\b\b\b\b 15% - weights_gz.json\b\b\b\b\b\b\b\b\b\b\b\b\b\b\b\b\b\b\b\b\b\b                      \b\b\b\b\b\b\b\b\b\b\b\b\b\b\b\b\b\b\b\b\b\b 18% - weights_gz.json\b\b\b\b\b\b\b\b\b\b\b\b\b\b\b\b\b\b\b\b\b\b                      \b\b\b\b\b\b\b\b\b\b\b\b\b\b\b\b\b\b\b\b\b\b 21% - weights_gz.json\b\b\b\b\b\b\b\b\b\b\b\b\b\b\b\b\b\b\b\b\b\b                      \b\b\b\b\b\b\b\b\b\b\b\b\b\b\b\b\b\b\b\b\b\b 24% - weights_gz.json\b\b\b\b\b\b\b\b\b\b\b\b\b\b\b\b\b\b\b\b\b\b                      \b\b\b\b\b\b\b\b\b\b\b\b\b\b\b\b\b\b\b\b\b\b 28% - weights_gz.json\b\b\b\b\b\b\b\b\b\b\b\b\b\b\b\b\b\b\b\b\b\b                      \b\b\b\b\b\b\b\b\b\b\b\b\b\b\b\b\b\b\b\b\b\b 30% - weights_gz.json\b\b\b\b\b\b\b\b\b\b\b\b\b\b\b\b\b\b\b\b\b\b                      \b\b\b\b\b\b\b\b\b\b\b\b\b\b\b\b\b\b\b\b\b\b 32% - weights_gz.json\b\b\b\b\b\b\b\b\b\b\b\b\b\b\b\b\b\b\b\b\b\b                      \b\b\b\b\b\b\b\b\b\b\b\b\b\b\b\b\b\b\b\b\b\b 35% - weights_gz.json\b\b\b\b\b\b\b\b\b\b\b\b\b\b\b\b\b\b\b\b\b\b                      \b\b\b\b\b\b\b\b\b\b\b\b\b\b\b\b\b\b\b\b\b\b 39% - weights_gz.json\b\b\b\b\b\b\b\b\b\b\b\b\b\b\b\b\b\b\b\b\b\b                      \b\b\b\b\b\b\b\b\b\b\b\b\b\b\b\b\b\b\b\b\b\b 42% - weights_gz.json\b\b\b\b\b\b\b\b\b\b\b\b\b\b\b\b\b\b\b\b\b\b                      \b\b\b\b\b\b\b\b\b\b\b\b\b\b\b\b\b\b\b\b\b\b 45% - weights_gz.json\b\b\b\b\b\b\b\b\b\b\b\b\b\b\b\b\b\b\b\b\b\b                      \b\b\b\b\b\b\b\b\b\b\b\b\b\b\b\b\b\b\b\b\b\b 49% - weights_gz.json\b\b\b\b\b\b\b\b\b\b\b\b\b\b\b\b\b\b\b\b\b\b                      \b\b\b\b\b\b\b\b\b\b\b\b\b\b\b\b\b\b\b\b\b\b 53% - weights_gz.json\b\b\b\b\b\b\b\b\b\b\b\b\b\b\b\b\b\b\b\b\b\b                      \b\b\b\b\b\b\b\b\b\b\b\b\b\b\b\b\b\b\b\b\b\b 56% - weights_gz.json\b\b\b\b\b\b\b\b\b\b\b\b\b\b\b\b\b\b\b\b\b\b                      \b\b\b\b\b\b\b\b\b\b\b\b\b\b\b\b\b\b\b\b\b\b 59% - weights_gz.json\b\b\b\b\b\b\b\b\b\b\b\b\b\b\b\b\b\b\b\b\b\b                      \b\b\b\b\b\b\b\b\b\b\b\b\b\b\b\b\b\b\b\b\b\b 63% - weights_gz.json\b\b\b\b\b\b\b\b\b\b\b\b\b\b\b\b\b\b\b\b\b\b                      \b\b\b\b\b\b\b\b\b\b\b\b\b\b\b\b\b\b\b\b\b\b 66% - weights_gz.json\b\b\b\b\b\b\b\b\b\b\b\b\b\b\b\b\b\b\b\b\b\b                      \b\b\b\b\b\b\b\b\b\b\b\b\b\b\b\b\b\b\b\b\b\b 69% - weights_gz.json\b\b\b\b\b\b\b\b\b\b\b\b\b\b\b\b\b\b\b\b\b\b                      \b\b\b\b\b\b\b\b\b\b\b\b\b\b\b\b\b\b\b\b\b\b 72% - weights_gz.json\b\b\b\b\b\b\b\b\b\b\b\b\b\b\b\b\b\b\b\b\b\b                      \b\b\b\b\b\b\b\b\b\b\b\b\b\b\b\b\b\b\b\b\b\b 75% - weights_gz.json\b\b\b\b\b\b\b\b\b\b\b\b\b\b\b\b\b\b\b\b\b\b                      \b\b\b\b\b\b\b\b\b\b\b\b\b\b\b\b\b\b\b\b\b\b 79% - weights_gz.json\b\b\b\b\b\b\b\b\b\b\b\b\b\b\b\b\b\b\b\b\b\b                      \b\b\b\b\b\b\b\b\b\b\b\b\b\b\b\b\b\b\b\b\b\b 82% - weights_gz.json\b\b\b\b\b\b\b\b\b\b\b\b\b\b\b\b\b\b\b\b\b\b                      \b\b\b\b\b\b\b\b\b\b\b\b\b\b\b\b\b\b\b\b\b\b 85% - weights_gz.json\b\b\b\b\b\b\b\b\b\b\b\b\b\b\b\b\b\b\b\b\b\b                      \b\b\b\b\b\b\b\b\b\b\b\b\b\b\b\b\b\b\b\b\b\b 89% - weights_gz.json\b\b\b\b\b\b\b\b\b\b\b\b\b\b\b\b\b\b\b\b\b\b                      \b\b\b\b\b\b\b\b\b\b\b\b\b\b\b\b\b\b\b\b\b\b 92% - weights_gz.json\b\b\b\b\b\b\b\b\b\b\b\b\b\b\b\b\b\b\b\b\b\b                      \b\b\b\b\b\b\b\b\b\b\b\b\b\b\b\b\b\b\b\b\b\b 95% - weights_gz.json\b\b\b\b\b\b\b\b\b\b\b\b\b\b\b\b\b\b\b\b\b\b                      \b\b\b\b\b\b\b\b\b\b\b\b\b\b\b\b\b\b\b\b\b\b 99% - weights_gz.json\b\b\b\b\b\b\b\b\b\b\b\b\b\b\b\b\b\b\b\b\b\b                      \b\b\b\b\b\b\b\b\b\b\b\b\b\b\b\b\b\b\b\b\b\bEverything is Ok\n",
            "\n",
            "Size:       297838553\n",
            "Compressed: 96533866\n",
            "Archive:  ../data/balanced_dataset_gz.zip\n",
            "  inflating: ../data/balanced_dataset_gz.csv  \n"
          ],
          "name": "stdout"
        }
      ]
    },
    {
      "cell_type": "markdown",
      "metadata": {
        "id": "yFIWbyhwrh4E"
      },
      "source": [
        "# Hp Optimizer"
      ]
    },
    {
      "cell_type": "markdown",
      "metadata": {
        "id": "3I-2P772ZllT"
      },
      "source": [
        "This class reproduces the bevaviour of GridSearchCV providing Tensorboard support. It enables to test a model with different combinations of hyper-parameters."
      ]
    },
    {
      "cell_type": "code",
      "metadata": {
        "id": "ipJ3qKHrJglI"
      },
      "source": [
        "# from embedder.src.universal_hp_optimizer import UniversalHPOptimizer\n",
        "\n",
        "DEFAULT_PARAMS = {\n",
        "    \"epochs\": [10],\n",
        "    'batch_size': [32],\n",
        "    'batch_normalization': [False],\n",
        "    'dropout': [0],\n",
        "    'optimizer': ['adam'],\n",
        "    'early_stopping': [3],\n",
        "    'nb_columns': [-1]\n",
        "}\n",
        "\n",
        "class UniversalHPOptimizer():\n",
        "    \"\"\" A class to optimize a given model and a given dictionary of parameters\n",
        "    to test. It uses the Tensorboard API in order to log the results.\n",
        "    \n",
        "    \"\"\"\n",
        "\n",
        "    def __init__(self, dict_params, create_model, log_dir=\"logs/fit/\", print_summary=False):\n",
        "        \"\"\"\n",
        "        Args:\n",
        "            dict_params ([dict]): [Dictionary which values are lists of possible\n",
        "             values for each parameter to test in the GridSearch.]\n",
        "            create_model ([funct]): [Function to create the model.]\n",
        "            print_summary (bool, optional): [Whether to print a summary of the model.\n",
        "            ]. Defaults to False.\n",
        "        \"\"\"\n",
        "        self.user_input = dict_params\n",
        "        self.create_model = create_model\n",
        "        self.print_summary=print_summary\n",
        "        self.best_model = None\n",
        "        self.best_accuracy = None\n",
        "        self.METRIC_ACCURACY = 'accuracy'\n",
        "        self.log_dir = log_dir\n",
        "        self.params = self.generate_hp_dict(dict_params)\n",
        "\n",
        "\n",
        "    def generate_hp_dict(self, dict_params):\n",
        "        \n",
        "        ret = {}\n",
        "        for k, v in DEFAULT_PARAMS.items():\n",
        "            if k not in dict_params.keys():\n",
        "                ret[k] = v\n",
        "            else:\n",
        "                ret[k] = dict_params[k]\n",
        "        \n",
        "        for k, v in dict_params.items():\n",
        "            if k not in ret:\n",
        "                ret[k] = v\n",
        "\n",
        "        return ret\n",
        "\n",
        "\n",
        "    def run_all(self, x_train, x_test, y_train=None, y_test=None):\n",
        "        \"\"\"[summary]\n",
        "\n",
        "        Args:\n",
        "          x_train ([ndarray]): [Array containing the training images.]\n",
        "          y_train ([ndarray]): [Array containing the labels of the training \n",
        "          images.]\n",
        "          x_test ([ndarray]): [Array containing the training images.]\n",
        "          y_test ([ndarray]): [Array containing the labels of the training \n",
        "          images.]\n",
        "        \"\"\"\n",
        "\n",
        "        session_num = 1\n",
        "\n",
        "        keys, values = zip(*self.params.items())\n",
        "        combinations = [dict(zip(keys, v)) for v in it.product(*values)]\n",
        "\n",
        "        for hparams in combinations:\n",
        "            run_name = \"run-%d\" % session_num\n",
        "            print('\\n--- Starting trial: %s' % run_name)\n",
        "            print({k: v for k, v in hparams.items()})\n",
        "            self.run(hparams, x_train, y_train, x_test, y_test, 'logs/hparam_tuning/' + run_name)\n",
        "            session_num += 1\n",
        "\n",
        "\n",
        "    def train_test_model(self, hparams, x_train, y_train, x_test, y_test):\n",
        "        \"\"\"[summary]\n",
        "\n",
        "        Args:\n",
        "            hparams ([dict]): [A dictionary of model parameters. The available\n",
        "            parameters are :\n",
        "            - batch_normalization (boolean): Adds two Batch normalization layers\n",
        "            before the dropout layers. \n",
        "            - optimizer (str) : Type of optimizer to use.\n",
        "            - dropout (float) : The dropout rate, between 0 and 1.\n",
        "            - batch_size (int): size of the batch.\n",
        "            - epoch (int): number of epochs.\n",
        "            ]\n",
        "            x_train ([ndarray]): [Array containing the training images.]\n",
        "            y_train ([ndarray]): [Array containing the labels of the training \n",
        "            images.]\n",
        "            x_test ([ndarray]): [Array containing the training images.]\n",
        "            y_test ([ndarray]): [Array containing the labels of the training \n",
        "            images.]\n",
        "\n",
        "        Returns:\n",
        "            [float]: [Returns the scalar test loss of the test.]\n",
        "        \"\"\"\n",
        "        model = self.create_model(hparams, self.print_summary)\n",
        "        log_dir = os.path.join(self.log_dir, datetime.datetime.now().strftime(\"%Y%m%d-%H%M%S\"))\n",
        "\n",
        "        if hparams['nb_columns'] != -1:\n",
        "            x_train = x_train.iloc[:, 0:hparams['nb_columns']]\n",
        "            x_test = x_test.iloc[:, 0:hparams['nb_columns']]\n",
        "\n",
        "        params_callback = {}\n",
        "        for k, v in hparams.items():\n",
        "            if k in self.user_input:\n",
        "                params_callback[k] = v\n",
        "\n",
        "        tensorboard_callback = [tf.keras.callbacks.TensorBoard(log_dir=log_dir, histogram_freq=1),\n",
        "                                hp.KerasCallback(log_dir, params_callback),\n",
        "                                tf.keras.callbacks.EarlyStopping(monitor='accuracy', patience=hparams[\"early_stopping\"], verbose=1)]\n",
        "\n",
        "        if y_train is None or y_test is None:\n",
        "            # Assume batch dataset\n",
        "            model.fit(x_train, batch_size=hparams[\"batch_size\"], epochs=hparams[\"epochs\"],\n",
        "                callbacks=[tensorboard_callback], validation_data=x_test) \n",
        "            _, accuracy = model.evaluate(x_test)\n",
        "        else:\n",
        "            model.fit(x_train, y_train, batch_size=hparams[\"batch_size\"], epochs=hparams[\"epochs\"],\n",
        "                    callbacks=[tensorboard_callback], validation_split=0.2) \n",
        "            _, accuracy = model.evaluate(x_test, y_test)\n",
        "\n",
        "        if self.best_accuracy is None or accuracy > self.best_accuracy:\n",
        "            self.best_accuracy = accuracy\n",
        "            self.best_model = model\n",
        "            self.best_params = hparams\n",
        "\n",
        "        return accuracy\n",
        "\n",
        "    def run(self, hparams, x_train, y_train, x_test, y_test, run_dir=\".\"):\n",
        "        \"\"\"[summary]\n",
        "\n",
        "        Args:\n",
        "            hparams ([dict]): [A dictionary of model parameters. The available\n",
        "            parameters are :\n",
        "            - batch_normalization (boolean): Adds two Batch normalization layers\n",
        "            before the dropout layers. \n",
        "            - optimizer (str) : Type of optimizer to use.\n",
        "            - dropout (float) : The dropout rate, between 0 and 1.\n",
        "            - batch_size (int): size of the batch.\n",
        "            - epoch (int): number of epochs.\n",
        "            ]\n",
        "            x_train ([ndarray]): [Array containing the training images.]\n",
        "            y_train ([ndarray]): [Array containing the labels of the training \n",
        "            images.]\n",
        "            x_test ([ndarray]): [Array containing the training images.]\n",
        "            y_test ([ndarray]): [Array containing the labels of the training \n",
        "            images.]\n",
        "            run_dir (str, optional): [Path to the directory from which to run \n",
        "            the model.]. Defaults to \".\".\n",
        "        \"\"\"\n",
        "\n",
        "        with tf.summary.create_file_writer(run_dir).as_default():\n",
        "            hp.hparams(hparams)  # record the values used in this trial\n",
        "            accuracy = self.train_test_model(hparams, x_train, y_train, x_test, y_test)\n",
        "            tf.summary.scalar(self.METRIC_ACCURACY, accuracy, step=1)\n",
        "\n",
        " \n",
        "    def predict(self, x_test):\n",
        "        \"\"\" Predicts the results for x_test with the model.\n",
        "\n",
        "        Args:\n",
        "            x_test ([ndarray]): [Array containing the training images.]\n",
        "\n",
        "        Returns:\n",
        "            [tuple]: [Returns an array of weights for predictions and an \n",
        "            array of predicted labels.]\n",
        "        \"\"\"\n",
        "        predicted_probas = self.best_model.predict(x_test, verbose=1, max_queue_size=10)\n",
        "        predicted_classes = np.argmax(predicted_probas, axis=-1)\n",
        "        return predicted_probas, predicted_classes\n",
        "\n",
        "\n",
        "    def get_confusion_matrix(self, y_true, x_test=None, y_pred=None, labels=None):\n",
        "        \"\"\" Builds a confusion matrix for the model.\n",
        "\n",
        "        Args:\n",
        "            y_true ([ndarray]): [Array containing the true labels.]\n",
        "            x_test ([ndarray]): [Array containing the training images.]. Defaults to None.\n",
        "            y_pred ([ndarray]): [Array containing the weigths for the prediction.]. Defaults to None.\n",
        "            labels ([list], optional): [List containing all of the unique labels.]. Defaults to None. \n",
        "\n",
        "        Returns:\n",
        "            [DataFrame]: [Returns a pandas DataFrame containing the confusion matrix, \n",
        "            with the rows being the true labels and the columns the predicted labels.]\n",
        "        \"\"\"\n",
        "        if labels is not None:\n",
        "            real_labels = [\"real \" + label for label in labels]\n",
        "            pred_labels = [\"pred \" + label for label in labels]\n",
        "        else:\n",
        "            real_labels, pred_labels = None, None\n",
        "\n",
        "        if y_pred is None:\n",
        "            _, y_pred = self.predict(x_test)\n",
        "        conf_matrix = tf.math.confusion_matrix(y_true, y_pred).numpy()\n",
        "        if real_labels is not None and pred_labels is not None:\n",
        "            conf_matrix = pd.DataFrame(conf_matrix, index=real_labels, columns=pred_labels)\n",
        "        return conf_matrix\n",
        "\n",
        "\n",
        "    def plot_evaluation_info(self, conf_matrix):\n",
        "        \"\"\" Shows 3 confusion matrices for the model.\n",
        "\n",
        "        Args:\n",
        "            conf_matrix ([ndarray or pd.DataFrame]): [confusion matrix with absolute values]\n",
        "\n",
        "        Returns: [None]\n",
        "        \"\"\"\n",
        "\n",
        "        fig, ax = plt.subplots(ncols=3, nrows=1, figsize=(20, 5))\n",
        "        conf_matrix_norm_recall = conf_matrix / (np.sum(conf_matrix, axis=1).to_numpy().reshape(len(conf_matrix), 1))\n",
        "        conf_matrix_norm_precision = conf_matrix / np.sum(conf_matrix, axis=0)\n",
        "        \n",
        "        sns.heatmap(conf_matrix, annot=True, cmap='Blues', ax=ax[0]).set_title(\"Absolute value confusion matrix\")\n",
        "        sns.heatmap(conf_matrix_norm_recall, annot=True, fmt='.2%', cmap='Blues', ax=ax[1]).set_title(\"Recall confusion matrix\")\n",
        "        sns.heatmap(conf_matrix_norm_precision, annot=True, fmt='.2%', cmap='Blues', ax=ax[2]).set_title(\"Precision confusion matrix\")\n",
        "        plt.show()"
      ],
      "execution_count": 6,
      "outputs": []
    },
    {
      "cell_type": "markdown",
      "metadata": {
        "id": "CyK54TtVrfO-"
      },
      "source": [
        "# HAN"
      ]
    },
    {
      "cell_type": "markdown",
      "metadata": {
        "id": "Jq3FEZDQbSMP"
      },
      "source": [
        "The HAN class has been modified to support the hyper-parameter optimizer. It now implements masking for embedding layer, l1-l2 regularizations, dropout and recurrent dropout"
      ]
    },
    {
      "cell_type": "code",
      "metadata": {
        "id": "iASOD-mardoe"
      },
      "source": [
        "from attention import Attention\n",
        "\n",
        "class HierarchicalAttentionNetwork(tf.keras.Model):\n",
        "    \"\"\"Hierarchical Attention Network implementation.\n",
        "\n",
        "    Reference :\n",
        "    * Hierarchical Attention Networks for Document Classification : https://www.cs.cmu.edu/~./hovy/papers/16HLT-hierarchical-attention-networks.pdf\n",
        "\n",
        "    \"\"\"\n",
        "    def __init__(self, vocab_size, embedding_dim, attention_units, \n",
        "                 classifier_units,\n",
        "                 hparams, pretrained_weights=None):\n",
        "        \n",
        "        \"\"\"Hierarchical Attention Network class constructor.\n",
        "\n",
        "        \"\"\"\n",
        "        super(HierarchicalAttentionNetwork, self).__init__()\n",
        "        \n",
        "        self.word_attention = []\n",
        "        self.document_attention = []\n",
        "\n",
        "        if pretrained_weights is not None:\n",
        "            initializer = tf.keras.initializers.Constant(pretrained_weights)\n",
        "        else:\n",
        "            initializer = \"uniform\"\n",
        "\n",
        "        # Regularisation\n",
        "        self.dropout_embedding = hparams['dropout_embedding']\n",
        "\n",
        "        # Main Layers\n",
        "        self.embedding = tf.keras.layers.Embedding(\n",
        "            vocab_size, \n",
        "            embedding_dim, \n",
        "            embeddings_initializer=initializer,\n",
        "            trainable=hparams['trainable'],\n",
        "            mask_zero=hparams[\"mask_zero\"]\n",
        "        )\n",
        "        self.WordGRU = tf.keras.layers.Bidirectional(\n",
        "            tf.keras.layers.GRU(\n",
        "                units=hparams['gru_units'],\n",
        "                activation=hparams[\"activation\"],\n",
        "                return_sequences=True,\n",
        "                recurrent_dropout=hparams['recurrent_dropout']\n",
        "            ), \n",
        "            merge_mode='concat',\n",
        "        )\n",
        "        self.WordAttention = Attention(units=attention_units)\n",
        "\n",
        "        self.SentenceGRU = tf.keras.layers.Bidirectional(\n",
        "            tf.keras.layers.GRU(\n",
        "                units=hparams['gru_units'],\n",
        "                activation=hparams[\"activation\"],\n",
        "                return_sequences=True,\n",
        "                recurrent_dropout=hparams['recurrent_dropout']\n",
        "            ), \n",
        "            merge_mode='concat',\n",
        "        )\n",
        "        self.SentenceAttention = Attention(units=attention_units)\n",
        "\n",
        "        self.fc = tf.keras.layers.Dense(units=classifier_units, activation=tf.keras.activations.softmax, \n",
        "                                        activity_regularizer=eval(hparams['regularizer']))\n",
        "\n",
        "\n",
        "    def call(self, inputs):\n",
        "        \"\"\"Model forward method.\n",
        "        \"\"\"\n",
        "        # sentences_vectors, word_attention = self.word_to_sentence_encoder(inputs)\n",
        "        # self.word_attention.append(word_attention)\n",
        "        # document_vector, document_attention = self.sentence_to_document_encoder(sentences_vectors)\n",
        "        # self.document_attention.append(document_attention)\n",
        "\n",
        "        sentences_vectors, _ = self.word_to_sentence_encoder(inputs)\n",
        "        document_vector, _ = self.sentence_to_document_encoder(sentences_vectors)\n",
        "\n",
        "        return self.fc(document_vector)\n",
        "\n",
        "    def word_to_sentence_encoder(self, inputs):\n",
        "        \"\"\"Given words from each sentences, encode the contextual representation of \n",
        "        the words from the sentence with Bidirectional GRU and Attention, and output \n",
        "        a sentence_vector.\n",
        "        \"\"\"\n",
        "        x = self.embedding(inputs)\n",
        "        mask = self.embedding.compute_mask(inputs)\n",
        "        if self.dropout_embedding > 0.0:\n",
        "          x = tf.keras.layers.Dropout(self.dropout_embedding)(x)\n",
        "        x = tf.keras.layers.TimeDistributed(self.WordGRU)(x, mask=mask)\n",
        "        context_vector, attention_weights = self.WordAttention(x)\n",
        "\n",
        "        return context_vector, attention_weights\n",
        "    \n",
        "    def sentence_to_document_encoder(self, sentences_vectors):\n",
        "        \"\"\"Given sentences from each review, encode the contextual representation of \n",
        "        the sentences with Bidirectional GRU and Attention, and output \n",
        "        a document vector.\n",
        "        \"\"\"\n",
        "        # sentence encoder (using bidirectionnal GRU)\n",
        "        sentences_vectors = self.SentenceGRU(sentences_vectors)        \n",
        "        # document vector  (using attention at sentence level)\n",
        "        document_vector, attention_weights = self.SentenceAttention(sentences_vectors)\n",
        "        \n",
        "        return document_vector, attention_weights"
      ],
      "execution_count": 7,
      "outputs": []
    },
    {
      "cell_type": "markdown",
      "metadata": {
        "id": "piQWjxbs24s3"
      },
      "source": [
        "# Loading pretrained weights"
      ]
    },
    {
      "cell_type": "markdown",
      "metadata": {
        "id": "HB5i-hRsfKZ4"
      },
      "source": [
        "We support both Capgemini data and data we scraped on TripAdvisor directly. Our scraped data is a dataset of 20k reviews with equal representation of each class (rating 1 to 5)"
      ]
    },
    {
      "cell_type": "code",
      "metadata": {
        "id": "ShDQFzTuvWnj",
        "colab": {
          "base_uri": "https://localhost:8080/"
        },
        "outputId": "f65e4321-7de7-4ad2-8c75-7cf6bd013d6a"
      },
      "source": [
        "try:\n",
        "    path_list = os.getcwd().split(os.sep)\n",
        "    target_index = path_list.index('nlp_consulting_project')\n",
        "    running_dir = os.path.join('.', path_list[target_index + 1])\n",
        "    path_list = path_list[:target_index + 1]\n",
        "    os.chdir(os.path.join(os.sep, *path_list))\n",
        "except:\n",
        "    pass\n",
        "\n",
        "filepath = os.path.join(\"attention_embedder\", \"data\", \"weights_\" + 'json' + \".json\")\n",
        "\n",
        "with open(filepath, 'r') as weights_file:\n",
        "    logger.info(f'Loading pretrained weights from JSON file {filepath}')\n",
        "    weights = json.load(weights_file)"
      ],
      "execution_count": 19,
      "outputs": [
        {
          "output_type": "stream",
          "text": [
            "[I 210308 17:00:46 <ipython-input-19-50125bd851d6>:13] Loading pretrained weights from JSON file attention_embedder/data/weights_json.json\n"
          ],
          "name": "stderr"
        }
      ]
    },
    {
      "cell_type": "markdown",
      "metadata": {
        "id": "RtcKOtqv3Eqw"
      },
      "source": [
        "# Loading train and test"
      ]
    },
    {
      "cell_type": "code",
      "metadata": {
        "id": "cH9aa1Ue3G7K",
        "colab": {
          "base_uri": "https://localhost:8080/"
        },
        "outputId": "c4605695-b9c8-4e62-a7d3-cabeb661341b"
      },
      "source": [
        "# DISCLAIMER: run cell again if eval raises an error\n",
        "\n",
        "data_fp = os.path.join('scraper', 'scraped_data', 'merged_data', 'merged_reviews.json')\n",
        "\n",
        "balanced_df = get_balanced_df('json', data_fp)\n",
        "sequences, vocab_size, tokenizer = gen_sequences(balanced_df, 'json')\n",
        "preprocessed_reviews_dict = preprocess_per_model(balanced_df, tokenizer, 'json', models=[\"han\"])\n",
        "train_ds_han, test_ds_han = get_train_test_df(balanced_df, preprocessed_reviews_dict, 'han')"
      ],
      "execution_count": 15,
      "outputs": [
        {
          "output_type": "stream",
          "text": [
            "[I 210308 16:59:32 loading:71] Looks for save_fp: scraper/scraped_data/merged_data/balanced_dataset_json.csv\n",
            "[I 210308 16:59:32 loading:77] Reading balanced dataset csv as scraper/scraped_data/merged_data/balanced_dataset_json.csv found.\n",
            "[I 210308 16:59:32 loading:80] Returns balanced dataset\n",
            "[C 210308 16:59:32 loading:131] review_sentences = [\"['went to this restaurant for the first time on 07 04  lovely customer service  great tasting food apart from the sticky toffee pudding which was hideous and not worth anywhere near  5  they have you the tiniest scoop of ice cream to go with it  even though the food and service were good i have to overall give a rating of 1 as my friend and i both suffered from food poisoning  for this reason we will never go back']\", \"['food was good but cold  service average  we had the 3 courses for  33 per person and had a total of 5 drinks  final bill of  135  shocked  going back to dispute the 6th drink that we didn t have tomorrow  tip of the day   check your bill carefully']\", \"['this is our second visit to this establishment  two years ago it was absolutely fabulous  however this year in october we were treated to the most dismal food and service ever  it was their  wild game festival   well they should not have bothered  the food was tasteless  messsy full of bones very little meat  and thrown on the plate like a kids school dinner  our reservation was made well ahead of time and we were treated to a seat next to the outdoor space close to the toilets terrible  its a shame because 2 years ago the food was excellent and presented like that in a gourmet restaurant not your typical indian']\", \"['went here a few years ago wonderful lovely thought we d go back big mistake  taramasalata had clearly been mixed with water to make it go further  bland tasteless pink stuff  calamari soggy  garlic bread with cheese only toasted one side  onto the main      i had the chicken in a brandy  cream  mushroom sauce  ok so the chicken was fillets from under the chicken so off it s from their chicken kebabs  the sauce no brandy and 1 slice i kid you not of mushroom   one of my children had the lamb casserole this was just as bad looking as mine except with think the cat was responsible for how it looked this time  once again it was finely chopped lamb off cuts completely inedible  the others at the table ate small amounts of their food but it was all really really poor  daughter and i didn t eat it was that bad wouldn t recommend and certainly wouldn t go back']\", \"['we went there with friends for diner  the waitress was so rude and unwelcoming  we were shocked  not helpful at all we ask for starters lady with glasses couldn t give as answer how a long we needs to wait   we was waiting more then 50 min  on the main time we was traying order also some drinks also was waiting around 20 min  we ask waitress girl with glasses how a long we need to wait for our food  she give as answer back on very rude and not professional way  about food i eat in better restaurant this is just name nothing much  we not recommend 100% we not gonna back there']\"]\n",
            "[I 210308 16:59:32 loading:133] <class 'str'>\n",
            "[I 210308 16:59:32 loading:136] Preprocessed sentences\n",
            "[D 210308 16:59:34 loading:143] went to this restaurant for the first time on 07 04  lovely customer service  great tasting food apart from the sticky toffee pudding which was hideous and not worth anywhere near  5  they have you the tiniest scoop of ice cream to go with it  even though the food and service were good i have to overall give a rating of 1 as my friend and i both suffered from food poisoning  for this reason we will never go back\n",
            "[D 210308 16:59:34 loading:144] went to this restaurant for the first time on 07 04  lovely customer service  great tasting food apart from the sticky toffee pudding which was hideous and not worth anywhere near  5  they have you the tiniest scoop of ice cream to go with it  even though the food and service were good i have to overall give a rating of 1 as my friend and i both suffered from food poisoning  for this reason we will never go back\n",
            "[D 210308 16:59:34 loading:145] [80, 4, 19, 34, 10, 1, 117, 54, 20, 6565, 5142, 90, 300, 31, 48, 810, 13, 788, 49, 1, 1209, 1619, 642, 37, 5, 8200, 2, 18, 287, 1046, 543, 215, 29, 26, 35, 1, 5355, 3328, 8, 536, 471, 4, 73, 17, 9, 94, 206, 1, 13, 2, 31, 12, 27, 6, 26, 4, 306, 259, 3, 1071, 8, 304, 21, 25, 283, 2, 6, 186, 3158, 49, 13, 3212, 10, 19, 657, 7, 64, 134, 73, 57]\n",
            "[I 210308 16:59:34 loading:87] Preprocessing reviews for models ['han']\n",
            "[I 210308 16:59:43 loading:105] Generating train and test datasets for model han\n",
            "[I 210308 16:59:43 loading:118] Split train and test\n"
          ],
          "name": "stderr"
        }
      ]
    },
    {
      "cell_type": "markdown",
      "metadata": {
        "id": "V0gQbjUdbuTj"
      },
      "source": [
        "# Optimizing the parameters of the model"
      ]
    },
    {
      "cell_type": "code",
      "metadata": {
        "id": "DDqU2oW4JkYX"
      },
      "source": [
        "%load_ext tensorboard"
      ],
      "execution_count": null,
      "outputs": []
    },
    {
      "cell_type": "code",
      "metadata": {
        "id": "Rxg-ZLXXM4Mt"
      },
      "source": [
        "# tf.config.experimental_run_functions_eagerly(False)\n",
        "\n",
        "def generate_model(hparams, print_summary=False):\n",
        "\n",
        "    print(hparams[\"weights\"])\n",
        "    model = HierarchicalAttentionNetwork(vocab_size=len(weights[hparams['weights']]), embedding_dim=128, attention_units=32, \n",
        "                classifier_units=5, hparams=hparams, pretrained_weights=weights[hparams['weights']])\n",
        "    \n",
        "    model.compile(loss=tf.keras.losses.CategoricalCrossentropy(from_logits=True),\n",
        "                           optimizer=hparams[\"optimizer\"], metrics=[\"accuracy\"])#run_eagerly=False\n",
        "    \n",
        "    return model\n",
        "\n",
        "params = {\n",
        "    \"epochs\": [20],\n",
        "    'early_stopping': [5],\n",
        "    'weights': ['20'], # pretrained weights after 20 epochs\n",
        "    'optimizer': [\"adam\"],\n",
        "    'activation': ['tanh'],\n",
        "    'gru_units': [64],\n",
        "    'recurrent_dropout': [0.5],\n",
        "    'dropout_embedding': [0.5],\n",
        "    'regularizer': ['tf.keras.regularizers.l1_l2(1e-2, 1e-2)'],\n",
        "    'trainable': [True],\n",
        "    'mask_zero': [True]\n",
        "}\n",
        "\n",
        "tested_params = {\n",
        "    \"epochs\": [20, 50],\n",
        "    'early_stopping': [5],\n",
        "    'weights': ['20'],\n",
        "    'optimizer': [\"adam\", \"SGD\"],\n",
        "    'activation': ['tanh', 'relu'],\n",
        "    'gru_units': [32, 64],\n",
        "    'recurrent_dropout': [0.25, 0.5],\n",
        "    'dropout_embedding': [0.25, 0.5],\n",
        "    'regularizer': ['tf.keras.regularizers.l1_l2(1e-2, 1e-2)',\n",
        "                    'tf.keras.regularizers.l1(1e-1)',\n",
        "                    'tf.keras.regularizers.l1(1e-3)',\n",
        "                    'tf.keras.regularizers.l2(1e-1)',\n",
        "                    'tf.keras.regularizers.l2(1e-3)',\n",
        "                    'tf.keras.regularizers.l1_l2(1e-1, 1e-1)'],\n",
        "    'trainable': [True, False],\n",
        "    'mask_zero': [True, False]\n",
        "}"
      ],
      "execution_count": 16,
      "outputs": []
    },
    {
      "cell_type": "code",
      "metadata": {
        "id": "WhAwBTthJpGA",
        "colab": {
          "base_uri": "https://localhost:8080/"
        },
        "outputId": "7e59eaf8-d824-48ce-b159-e1a1ba5af3ae"
      },
      "source": [
        "logs = os.path.join(\"attention_embedder\", \"logs\")\n",
        "!rm -rf $logs\n",
        "hp_han = UniversalHPOptimizer(params, generate_model, log_dir=logs, print_summary=True)\n",
        "hp_han.run_all(x_train=train_ds_han, x_test=test_ds_han)"
      ],
      "execution_count": 20,
      "outputs": [
        {
          "output_type": "stream",
          "text": [
            "\n",
            "--- Starting trial: run-1\n",
            "{'epochs': 20, 'batch_size': 32, 'batch_normalization': False, 'dropout': 0, 'optimizer': 'adam', 'early_stopping': 5, 'nb_columns': -1, 'weights': '20', 'activation': 'tanh', 'gru_units': 64, 'recurrent_dropout': 0.5, 'dropout_embedding': 0.5, 'regularizer': 'tf.keras.regularizers.l1_l2(1e-2, 1e-2)', 'trainable': True, 'mask_zero': True}\n",
            "20\n",
            "WARNING:tensorflow:Layer gru will not use cuDNN kernel since it doesn't meet the cuDNN kernel criteria. It will use generic GPU kernel as fallback when running on GPU\n",
            "WARNING:tensorflow:Layer gru will not use cuDNN kernel since it doesn't meet the cuDNN kernel criteria. It will use generic GPU kernel as fallback when running on GPU\n",
            "WARNING:tensorflow:Layer gru will not use cuDNN kernel since it doesn't meet the cuDNN kernel criteria. It will use generic GPU kernel as fallback when running on GPU\n",
            "WARNING:tensorflow:Layer gru_1 will not use cuDNN kernel since it doesn't meet the cuDNN kernel criteria. It will use generic GPU kernel as fallback when running on GPU\n",
            "WARNING:tensorflow:Layer gru_1 will not use cuDNN kernel since it doesn't meet the cuDNN kernel criteria. It will use generic GPU kernel as fallback when running on GPU\n",
            "WARNING:tensorflow:Layer gru_1 will not use cuDNN kernel since it doesn't meet the cuDNN kernel criteria. It will use generic GPU kernel as fallback when running on GPU\n",
            "Epoch 1/20\n",
            "14/14 [==============================] - 26s 1s/step - loss: 1.6178 - accuracy: 0.2498 - val_loss: 1.5831 - val_accuracy: 0.3074\n",
            "Epoch 2/20\n",
            "14/14 [==============================] - 10s 699ms/step - loss: 1.5421 - accuracy: 0.3278 - val_loss: 1.3705 - val_accuracy: 0.3729\n",
            "Epoch 3/20\n",
            "14/14 [==============================] - 10s 745ms/step - loss: 1.3527 - accuracy: 0.3906 - val_loss: 1.2177 - val_accuracy: 0.4417\n",
            "Epoch 4/20\n",
            "14/14 [==============================] - 10s 710ms/step - loss: 1.2262 - accuracy: 0.4436 - val_loss: 1.1205 - val_accuracy: 0.4963\n",
            "Epoch 5/20\n",
            "14/14 [==============================] - 10s 719ms/step - loss: 1.1524 - accuracy: 0.4785 - val_loss: 1.0669 - val_accuracy: 0.5176\n",
            "Epoch 6/20\n",
            "14/14 [==============================] - 10s 724ms/step - loss: 1.0885 - accuracy: 0.5119 - val_loss: 1.0341 - val_accuracy: 0.5250\n",
            "Epoch 7/20\n",
            "14/14 [==============================] - 10s 726ms/step - loss: 1.0494 - accuracy: 0.5368 - val_loss: 1.0118 - val_accuracy: 0.5451\n",
            "Epoch 8/20\n",
            "14/14 [==============================] - 10s 712ms/step - loss: 1.0411 - accuracy: 0.5416 - val_loss: 1.0018 - val_accuracy: 0.5466\n",
            "Epoch 9/20\n",
            "14/14 [==============================] - 10s 703ms/step - loss: 1.0093 - accuracy: 0.5496 - val_loss: 0.9832 - val_accuracy: 0.5595\n",
            "Epoch 10/20\n",
            "14/14 [==============================] - 10s 730ms/step - loss: 0.9768 - accuracy: 0.5678 - val_loss: 0.9775 - val_accuracy: 0.5640\n",
            "Epoch 11/20\n",
            "14/14 [==============================] - 10s 707ms/step - loss: 0.9648 - accuracy: 0.5765 - val_loss: 0.9770 - val_accuracy: 0.5629\n",
            "Epoch 12/20\n",
            "14/14 [==============================] - 10s 737ms/step - loss: 0.9580 - accuracy: 0.5850 - val_loss: 0.9771 - val_accuracy: 0.5645\n",
            "Epoch 13/20\n",
            "14/14 [==============================] - 10s 724ms/step - loss: 0.9335 - accuracy: 0.5950 - val_loss: 0.9660 - val_accuracy: 0.5751\n",
            "Epoch 14/20\n",
            "14/14 [==============================] - 10s 750ms/step - loss: 0.9184 - accuracy: 0.6014 - val_loss: 0.9850 - val_accuracy: 0.5603\n",
            "Epoch 15/20\n",
            "14/14 [==============================] - 10s 727ms/step - loss: 0.9025 - accuracy: 0.6057 - val_loss: 0.9694 - val_accuracy: 0.5709\n",
            "Epoch 16/20\n",
            "14/14 [==============================] - 10s 747ms/step - loss: 0.8862 - accuracy: 0.6127 - val_loss: 0.9721 - val_accuracy: 0.5753\n",
            "Epoch 17/20\n",
            "14/14 [==============================] - 10s 717ms/step - loss: 0.8790 - accuracy: 0.6167 - val_loss: 0.9780 - val_accuracy: 0.5686\n",
            "Epoch 18/20\n",
            "14/14 [==============================] - 10s 747ms/step - loss: 0.8568 - accuracy: 0.6273 - val_loss: 0.9767 - val_accuracy: 0.5732\n",
            "Epoch 19/20\n",
            "14/14 [==============================] - 10s 726ms/step - loss: 0.8500 - accuracy: 0.6380 - val_loss: 0.9792 - val_accuracy: 0.5774\n",
            "Epoch 20/20\n",
            "14/14 [==============================] - 10s 747ms/step - loss: 0.8360 - accuracy: 0.6416 - val_loss: 0.9885 - val_accuracy: 0.5697\n",
            "6/6 [==============================] - 1s 167ms/step - loss: 0.9885 - accuracy: 0.5697\n"
          ],
          "name": "stdout"
        }
      ]
    },
    {
      "cell_type": "markdown",
      "metadata": {
        "id": "8A0ce5EncjQ-"
      },
      "source": [
        "# Evaluation"
      ]
    },
    {
      "cell_type": "code",
      "metadata": {
        "id": "JBrtdTVEtfEx"
      },
      "source": [
        "%tensorboard --logdir $logs"
      ],
      "execution_count": null,
      "outputs": []
    },
    {
      "cell_type": "code",
      "metadata": {
        "id": "uSgoba0_DSlV",
        "colab": {
          "base_uri": "https://localhost:8080/"
        },
        "outputId": "74e60bb0-505c-4946-bfa7-4ccaff3733cd"
      },
      "source": [
        "model = hp_han.best_model\n",
        "params = hp_han.best_params\n",
        "accuracy = hp_han.best_accuracy\n",
        "format_accuracy = \"{:.2f}\".format(accuracy)\n",
        "\n",
        "print(\"Best params are:\")\n",
        "for k, v in params.items():\n",
        "    print(f\"\\t {k}: {v}\")\n",
        "print(f\"\\nOverall accuracy is {format_accuracy}\")"
      ],
      "execution_count": 21,
      "outputs": [
        {
          "output_type": "stream",
          "text": [
            "Best params are:\n",
            "\t epochs: 20\n",
            "\t batch_size: 32\n",
            "\t batch_normalization: False\n",
            "\t dropout: 0\n",
            "\t optimizer: adam\n",
            "\t early_stopping: 5\n",
            "\t nb_columns: -1\n",
            "\t weights: 20\n",
            "\t activation: tanh\n",
            "\t gru_units: 64\n",
            "\t recurrent_dropout: 0.5\n",
            "\t dropout_embedding: 0.5\n",
            "\t regularizer: tf.keras.regularizers.l1_l2(1e-2, 1e-2)\n",
            "\t trainable: True\n",
            "\t mask_zero: True\n",
            "\n",
            "Overall accuracy is 0.57\n"
          ],
          "name": "stdout"
        }
      ]
    },
    {
      "cell_type": "code",
      "metadata": {
        "id": "f2jQwDJwDXql",
        "colab": {
          "base_uri": "https://localhost:8080/",
          "height": 300
        },
        "outputId": "99276ece-824a-444e-e8ab-1cc308dedc8b"
      },
      "source": [
        "y_true = np.concatenate([y for x, y in test_ds_han], axis=0)\n",
        "x_test = np.concatenate([x for x, y in test_ds_han], axis=0)\n",
        "han_model_reg = hp_han.best_model\n",
        "print(f\"best params are {hp_han.best_params}\")\n",
        "\n",
        "y_true = np.argmax(y_true, axis=1, out=None)\n",
        "y_pred = han_model_reg.predict(x_test)\n",
        "y_pred = np.argmax(y_pred, axis=1, out=None)\n",
        "\n",
        "conf_matrix = hp_han.get_confusion_matrix(y_true, y_pred=y_pred, labels=['1', '2', '3', '4', '5'])\n",
        "hp_han.plot_evaluation_info(conf_matrix)"
      ],
      "execution_count": 22,
      "outputs": [
        {
          "output_type": "stream",
          "text": [
            "best params are {'epochs': 20, 'batch_size': 32, 'batch_normalization': False, 'dropout': 0, 'optimizer': 'adam', 'early_stopping': 5, 'nb_columns': -1, 'weights': '20', 'activation': 'tanh', 'gru_units': 64, 'recurrent_dropout': 0.5, 'dropout_embedding': 0.5, 'regularizer': 'tf.keras.regularizers.l1_l2(1e-2, 1e-2)', 'trainable': True, 'mask_zero': True}\n"
          ],
          "name": "stdout"
        },
        {
          "output_type": "display_data",
          "data": {
            "image/png": "[encoded data removed]",
            "text/plain": [
              "<Figure size 1440x360 with 6 Axes>"
            ]
          },
          "metadata": {
            "tags": [],
            "needs_background": "light"
          }
        }
      ]
    },
    {
      "cell_type": "markdown",
      "metadata": {
        "id": "U-aqxnwTeEKb"
      },
      "source": [
        "The first confusion matrix shows data in absolute value.\n",
        "The second confusion matrix displays the recall matrix (\"among the real individuals of class x, which share was predicted as such\").\n",
        "The third confusion matrix displays the precision matrix (\"among the predicted individuals of class x, which share was really of this class\").\n",
        "\n",
        "We achieve good results for classes 1 and 5 as they are the most distinctive. The algorithm still struggles to predict more nuanced reviews. Nevertheless, we notice that the embedding makes small mistakes, usually confunding a rating with the next or previous one. Cases where the gap between the truth and the prediction is bigger than 1 star are rare. This is a good indication that the model makes sense even if its accuracy is not optimal"
      ]
    },
    {
      "cell_type": "markdown",
      "metadata": {
        "id": "zPlQT1X7QHGY"
      },
      "source": [
        "# Insights from Attention Weights"
      ]
    },
    {
      "cell_type": "markdown",
      "metadata": {
        "id": "zY1eAOenTHhw"
      },
      "source": [
        "We are having trouble retrieving the attention weights in numpy form (from tensors) but provide the following helper functions to visualise most important words and most important sentence in reviews. We will continue working on the following in the upcoming week."
      ]
    },
    {
      "cell_type": "code",
      "metadata": {
        "id": "aFneGq0QiH1j"
      },
      "source": [
        "from collections import Counter\n",
        "\n",
        "def get_most_weighted_words(reviews, word_tensor):\n",
        "    \"\"\"\n",
        "    word_tensor (array): shape nb reviews, nb sentences max per review, nb words max per review\n",
        "    \"\"\"\n",
        "    most_weighted_words = []\n",
        "    for review in word_tensor:\n",
        "        flatten = review.flatten()\n",
        "        most_weighted_word_per_review = reviews[np.argmax(flatten)]\n",
        "        most_weighted_words.append(most_weighted_word_per_review)\n",
        "    return most_weighted_words\n",
        "\n",
        "def get_most_weighted_sentences(sentence_tensor):\n",
        "    \"\"\"\n",
        "    sentence_tensor (array): shape nb reviews, nb sentences \n",
        "    \"\"\"\n",
        "    most_weighted_sentences_idx = []\n",
        "    for review in sentence_tensor:\n",
        "        flatten = review.flatten()\n",
        "        most_weighted_sentences_idx.append(np.argmax(flatten))\n",
        "    return most_weighted_sentences_idx\n",
        "\n",
        "most_weighted_words = get_most_weighted_words(x_test, model.word_attention)\n",
        "most_weighted_sentences_idx = get_most_weighted_sentences(model.document_attention)\n",
        "\n",
        "words_count = Counter(most_weighted_words)\n",
        "idx_count = Counter(most_weighted_sentences_idx)\n",
        "\n",
        "# Show words carrying most weight across all reviews\n",
        "plt.plot(words_count.keys(), words_count.values())\n",
        "# Show index of sentences carrying most weight across all reviews\n",
        "plt.plot(idx_count.keys(), idx_count.values())"
      ],
      "execution_count": null,
      "outputs": []
    },
    {
      "cell_type": "code",
      "metadata": {
        "id": "Fb5-zctdKj33"
      },
      "source": [
        ""
      ],
      "execution_count": null,
      "outputs": []
    }
  ]
}